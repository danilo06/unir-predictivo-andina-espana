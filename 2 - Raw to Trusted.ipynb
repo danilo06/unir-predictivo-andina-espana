{
 "cells": [
  {
   "cell_type": "markdown",
   "id": "b4a0003d",
   "metadata": {},
   "source": [
    "# Universidad Internacional de La Rioja  \n",
    "\n",
    "### Máster Universitario en Visual Analytics and Big Data  \n",
    "\n",
    "---\n",
    "\n",
    "### **Predicción y Análisis de la Demanda y Suministro de Productos entre la Comunidad Andina y España**  \n",
    "**Presentado por:** Danilo Andrés Beleño Villafañe  \n",
    "\n",
    "---\n",
    "\n",
    "### **Notebook 2: Paso de la Zona de Datos Crudos a la Zona de Datos Confiables**  \n"
   ]
  },
  {
   "cell_type": "markdown",
   "id": "a654f8e0",
   "metadata": {},
   "source": [
    "### Configuracion incial"
   ]
  },
  {
   "cell_type": "code",
   "execution_count": 1,
   "id": "25212cd8",
   "metadata": {},
   "outputs": [],
   "source": [
    "import logging\n",
    "from google.cloud import storage\n",
    "from pyspark.sql.functions import expr\n",
    "from pyspark.sql.types import StringType\n",
    "from pyspark.sql.functions import col, regexp_replace, trim, udf"
   ]
  },
  {
   "cell_type": "code",
   "execution_count": 2,
   "id": "5848c71f",
   "metadata": {},
   "outputs": [],
   "source": [
    "logging.basicConfig(level=logging.INFO)"
   ]
  },
  {
   "cell_type": "code",
   "execution_count": 3,
   "id": "7dd5742a",
   "metadata": {},
   "outputs": [],
   "source": [
    "spark = SparkSession.builder.getOrCreate()"
   ]
  },
  {
   "cell_type": "code",
   "execution_count": 4,
   "id": "00512800",
   "metadata": {
    "scrolled": false
   },
   "outputs": [
    {
     "data": {
      "text/html": [
       "\n",
       "            <div>\n",
       "                <p><b>SparkSession - hive</b></p>\n",
       "                \n",
       "        <div>\n",
       "            <p><b>SparkContext</b></p>\n",
       "\n",
       "            <p><a href=\"http://cluster-procesado-m.us-south1-b.c.unir-predictivo-andina-espana.internal:43187\">Spark UI</a></p>\n",
       "\n",
       "            <dl>\n",
       "              <dt>Version</dt>\n",
       "                <dd><code>v3.5.1</code></dd>\n",
       "              <dt>Master</dt>\n",
       "                <dd><code>yarn</code></dd>\n",
       "              <dt>AppName</dt>\n",
       "                <dd><code>PySparkShell</code></dd>\n",
       "            </dl>\n",
       "        </div>\n",
       "        \n",
       "            </div>\n",
       "        "
      ],
      "text/plain": [
       "<pyspark.sql.session.SparkSession at 0x7f35ac40cb50>"
      ]
     },
     "execution_count": 4,
     "metadata": {},
     "output_type": "execute_result"
    }
   ],
   "source": [
    "spark"
   ]
  },
  {
   "cell_type": "code",
   "execution_count": 5,
   "id": "4cf41eb2",
   "metadata": {},
   "outputs": [],
   "source": [
    "CONFIG = {\n",
    "    \"raw_bucket\" : \"data-factory-1-raw-data-zone\",\n",
    "    \"trusted_bucket\" : \"data-factory-2-trusted-zone\",\n",
    "    \"data_base_path\" : \"data/datacomex/\",\n",
    "}"
   ]
  },
  {
   "cell_type": "markdown",
   "id": "e0491e97",
   "metadata": {},
   "source": [
    "### Funciones generale"
   ]
  },
  {
   "cell_type": "code",
   "execution_count": 6,
   "id": "6d32327b",
   "metadata": {},
   "outputs": [],
   "source": [
    "def get_files_from_gcs(bucket_name, path_prefix):\n",
    "    client = storage.Client()\n",
    "    bucket = client.get_bucket(bucket_name)\n",
    "    files = [blob.name for blob in bucket.list_blobs(prefix=path_prefix) if blob.name.endswith(\".csv\")]\n",
    "    return files[::-1]"
   ]
  },
  {
   "cell_type": "code",
   "execution_count": 7,
   "id": "6d97f902",
   "metadata": {},
   "outputs": [],
   "source": [
    "def decode_binary_content(binary_data):\n",
    "    return binary_data.decode(\"utf-16le\")\n",
    "\n",
    "def decode_df(binary_df, col_names):\n",
    "    decode_udf = udf(decode_binary_content, StringType())\n",
    "    \n",
    "    df = binary_df.select(\n",
    "        decode_udf(col(\"content\")).alias(\"decoded_content\")\n",
    "    ).selectExpr(\n",
    "        \"split(decoded_content, '\\n') as lines\"\n",
    "    ).selectExpr(\n",
    "        \"explode(lines) as line\"\n",
    "    ).filter(\n",
    "        \"line != ''\"\n",
    "    ).selectExpr(\n",
    "        \"split(line, '\\t') as columns\"\n",
    "    ).select(\n",
    "        [expr(f\"columns[{i}]\").alias(name) for i, name in enumerate(col_names)]\n",
    "    ).filter(\n",
    "        ~col(col_names[0]).contains(col_names[0])\n",
    "    )\n",
    "    \n",
    "    df = df.select(\n",
    "        [regexp_replace(trim(col(c)), r'\\r', '').alias(c) for c in df.columns]\n",
    "    )\n",
    "    return df"
   ]
  },
  {
   "cell_type": "markdown",
   "id": "337b12a8",
   "metadata": {},
   "source": [
    "### Ingesta Tabla clasificacion_taric"
   ]
  },
  {
   "cell_type": "code",
   "execution_count": 8,
   "id": "f92da109",
   "metadata": {},
   "outputs": [],
   "source": [
    "source_taric_path = f'gs://{CONFIG[\"raw_bucket\"]}/data/datacomex/clasificacion_taric/clasificacion_taric.csv'\n",
    "target_taric_path = f'gs://{CONFIG[\"trusted_bucket\"]}/data/datacomex/clasificacion_taric'\n",
    "col_names = ['cod_taric', 'nivel_taric', 'descripcion_taric']"
   ]
  },
  {
   "cell_type": "code",
   "execution_count": 9,
   "id": "b2965f18",
   "metadata": {},
   "outputs": [],
   "source": [
    "df = spark.read.format(\"binaryFile\").load(source_taric_path)\n",
    "df = decode_df(df, col_names).withColumn(\"nivel_taric\", col(\"nivel_taric\").cast(\"integer\"))"
   ]
  },
  {
   "cell_type": "code",
   "execution_count": 10,
   "id": "1010e13e",
   "metadata": {},
   "outputs": [
    {
     "name": "stderr",
     "output_type": "stream",
     "text": [
      "                                                                                \r"
     ]
    }
   ],
   "source": [
    "df.write.options(\n",
    "    compression=\"snappy\"\n",
    ").mode(\n",
    "    \"overwrite\"\n",
    ").parquet(target_taric_path)\n"
   ]
  },
  {
   "cell_type": "markdown",
   "id": "e2baed13",
   "metadata": {},
   "source": [
    "### Ingesta Tabla paises"
   ]
  },
  {
   "cell_type": "code",
   "execution_count": 11,
   "id": "e3502ff0",
   "metadata": {},
   "outputs": [],
   "source": [
    "source_country_path = f'gs://{CONFIG[\"raw_bucket\"]}/data/datacomex/paises/paises.csv'\n",
    "target_country_path = f'gs://{CONFIG[\"trusted_bucket\"]}/data/datacomex/paises'\n",
    "col_names = ['cod_pais', 'pais']"
   ]
  },
  {
   "cell_type": "code",
   "execution_count": null,
   "id": "e7a9c340",
   "metadata": {},
   "outputs": [],
   "source": [
    "df = spark.read.format(\"binaryFile\").load(source_country_path)\n",
    "df = decode_df(df, col_names)"
   ]
  },
  {
   "cell_type": "code",
   "execution_count": 13,
   "id": "6e8a6eb1",
   "metadata": {},
   "outputs": [
    {
     "name": "stderr",
     "output_type": "stream",
     "text": [
      "                                                                                \r"
     ]
    }
   ],
   "source": [
    "df.write.options(\n",
    "    compression=\"snappy\"\n",
    ").mode(\n",
    "    \"overwrite\"\n",
    ").parquet(target_country_path)"
   ]
  },
  {
   "cell_type": "markdown",
   "id": "d46c6f54",
   "metadata": {},
   "source": [
    "### Ingesta Tabla provincias"
   ]
  },
  {
   "cell_type": "code",
   "execution_count": 14,
   "id": "2cb2bfe1",
   "metadata": {},
   "outputs": [],
   "source": [
    "source_province_path = f'gs://{CONFIG[\"raw_bucket\"]}/data/datacomex/provincias/provincias.csv'\n",
    "target_province_path = f'gs://{CONFIG[\"trusted_bucket\"]}/data/datacomex/provincias'\n",
    "col_names = ['cod_provincia', 'nombre_provincia', 'cod_comunidad', 'nombre_comunidad']"
   ]
  },
  {
   "cell_type": "code",
   "execution_count": 15,
   "id": "78067bc7",
   "metadata": {},
   "outputs": [],
   "source": [
    "df = spark.read.format(\"binaryFile\").load(source_province_path)\n",
    "df = decode_df(df, col_names)"
   ]
  },
  {
   "cell_type": "code",
   "execution_count": 16,
   "id": "e9b09e87",
   "metadata": {},
   "outputs": [
    {
     "name": "stderr",
     "output_type": "stream",
     "text": [
      "\r\n",
      "[Stage 2:>                                                          (0 + 1) / 1]\r\n",
      "\r\n",
      "                                                                                \r"
     ]
    }
   ],
   "source": [
    "df.write.options(\n",
    "    compression=\"snappy\"\n",
    ").mode(\n",
    "    \"overwrite\"\n",
    ").parquet(target_province_path)"
   ]
  },
  {
   "cell_type": "markdown",
   "id": "9ea005a4",
   "metadata": {},
   "source": [
    "### Ingesta Tabla Sectores"
   ]
  },
  {
   "cell_type": "code",
   "execution_count": 17,
   "id": "0e8f0bb9",
   "metadata": {},
   "outputs": [],
   "source": [
    "source_sector_path = f'gs://{CONFIG[\"raw_bucket\"]}/data/datacomex/sectores/sectores.csv'\n",
    "target_sector_path = f'gs://{CONFIG[\"trusted_bucket\"]}/data/datacomex/sectores'\n",
    "col_names = [\"cod_sec\", \"nivel_sec\", \"sector\"]"
   ]
  },
  {
   "cell_type": "code",
   "execution_count": 18,
   "id": "1e33c471",
   "metadata": {},
   "outputs": [],
   "source": [
    "df = spark.read.format(\"binaryFile\").load(source_sector_path)\n",
    "df = decode_df(df, col_names)"
   ]
  },
  {
   "cell_type": "code",
   "execution_count": 19,
   "id": "314df55a",
   "metadata": {},
   "outputs": [
    {
     "name": "stderr",
     "output_type": "stream",
     "text": [
      "\r\n",
      "[Stage 3:>                                                          (0 + 1) / 1]\r\n",
      "\r\n",
      "                                                                                \r"
     ]
    }
   ],
   "source": [
    "df.write.options(\n",
    "    compression=\"snappy\"\n",
    ").mode(\n",
    "    \"overwrite\"\n",
    ").parquet(target_sector_path)"
   ]
  },
  {
   "cell_type": "markdown",
   "id": "de75ac0c",
   "metadata": {},
   "source": [
    "### Ingesta Tabla comex"
   ]
  },
  {
   "cell_type": "code",
   "execution_count": 20,
   "id": "82308874",
   "metadata": {},
   "outputs": [],
   "source": [
    "source_comex_data_path = f'{CONFIG[\"data_base_path\"]}taric/'\n",
    "target_comex_data_path = f'gs://{CONFIG[\"trusted_bucket\"]}/data/datacomex/comex'\n",
    "file_paths = get_files_from_gcs(CONFIG[\"raw_bucket\"], source_comex_data_path)\n",
    "col_names = ['tipo_movimiento', 'anio', 'mes', 'estado', 'cod_pais', 'cod_provincia', 'euros', 'dolares', 'nivel_taric_original', 'cod_taric', 'kilogramos']"
   ]
  },
  {
   "cell_type": "code",
   "execution_count": 21,
   "id": "54ea2ffe",
   "metadata": {},
   "outputs": [
    {
     "name": "stderr",
     "output_type": "stream",
     "text": [
      "INFO:root:Procesando archivo: data/datacomex/taric/comex_taric_202406.csv\n",
      "INFO:root:Procesando archivo: data/datacomex/taric/comex_taric_202405.csv       \n",
      "INFO:root:Procesando archivo: data/datacomex/taric/comex_taric_202403.csv       \n",
      "INFO:root:Procesando archivo: data/datacomex/taric/comex_taric_202402.csv       \n",
      "INFO:root:Procesando archivo: data/datacomex/taric/comex_taric_202401.csv       \n",
      "INFO:root:Procesando archivo: data/datacomex/taric/comex_taric_202312.csv       \n",
      "INFO:root:Procesando archivo: data/datacomex/taric/comex_taric_202311.csv       \n",
      "INFO:root:Procesando archivo: data/datacomex/taric/comex_taric_202309.csv       \n",
      "INFO:root:Procesando archivo: data/datacomex/taric/comex_taric_202308.csv       \n",
      "INFO:root:Procesando archivo: data/datacomex/taric/comex_taric_202307.csv       \n",
      "INFO:root:Procesando archivo: data/datacomex/taric/comex_taric_202306.csv       \n",
      "INFO:root:Procesando archivo: data/datacomex/taric/comex_taric_202305.csv       \n",
      "INFO:root:Procesando archivo: data/datacomex/taric/comex_taric_202304.csv       \n",
      "INFO:root:Procesando archivo: data/datacomex/taric/comex_taric_202303.csv       \n",
      "INFO:root:Procesando archivo: data/datacomex/taric/comex_taric_202302.csv       \n",
      "INFO:root:Procesando archivo: data/datacomex/taric/comex_taric_202301.csv       \n",
      "INFO:root:Procesando archivo: data/datacomex/taric/comex_taric_202212.csv       \n",
      "INFO:root:Procesando archivo: data/datacomex/taric/comex_taric_202211.csv       \n",
      "INFO:root:Procesando archivo: data/datacomex/taric/comex_taric_202210.csv       \n",
      "INFO:root:Procesando archivo: data/datacomex/taric/comex_taric_202209.csv       \n",
      "INFO:root:Procesando archivo: data/datacomex/taric/comex_taric_202208.csv       \n",
      "INFO:root:Procesando archivo: data/datacomex/taric/comex_taric_202207.csv       \n",
      "INFO:root:Procesando archivo: data/datacomex/taric/comex_taric_202206.csv       \n",
      "INFO:root:Procesando archivo: data/datacomex/taric/comex_taric_202205.csv       \n",
      "INFO:root:Procesando archivo: data/datacomex/taric/comex_taric_202204.csv       \n",
      "INFO:root:Procesando archivo: data/datacomex/taric/comex_taric_202203.csv       \n",
      "INFO:root:Procesando archivo: data/datacomex/taric/comex_taric_202202.csv       \n",
      "INFO:root:Procesando archivo: data/datacomex/taric/comex_taric_202201.csv       \n",
      "INFO:root:Procesando archivo: data/datacomex/taric/comex_taric_202112.csv       \n",
      "INFO:root:Procesando archivo: data/datacomex/taric/comex_taric_202111.csv       \n",
      "INFO:root:Procesando archivo: data/datacomex/taric/comex_taric_202110.csv       \n",
      "INFO:root:Procesando archivo: data/datacomex/taric/comex_taric_202109.csv       \n",
      "INFO:root:Procesando archivo: data/datacomex/taric/comex_taric_202108.csv       \n",
      "INFO:root:Procesando archivo: data/datacomex/taric/comex_taric_202107.csv       \n",
      "INFO:root:Procesando archivo: data/datacomex/taric/comex_taric_202106.csv       \n",
      "INFO:root:Procesando archivo: data/datacomex/taric/comex_taric_202105.csv       \n",
      "INFO:root:Procesando archivo: data/datacomex/taric/comex_taric_202104.csv       \n",
      "INFO:root:Procesando archivo: data/datacomex/taric/comex_taric_202103.csv       \n",
      "INFO:root:Procesando archivo: data/datacomex/taric/comex_taric_202102.csv       \n",
      "INFO:root:Procesando archivo: data/datacomex/taric/comex_taric_202101.csv       \n",
      "INFO:root:Procesando archivo: data/datacomex/taric/comex_taric_202012.csv       \n",
      "INFO:root:Procesando archivo: data/datacomex/taric/comex_taric_202011.csv       \n",
      "INFO:root:Procesando archivo: data/datacomex/taric/comex_taric_202010.csv       \n",
      "INFO:root:Procesando archivo: data/datacomex/taric/comex_taric_202009.csv       \n",
      "INFO:root:Procesando archivo: data/datacomex/taric/comex_taric_202008.csv       \n",
      "INFO:root:Procesando archivo: data/datacomex/taric/comex_taric_202007.csv       \n",
      "INFO:root:Procesando archivo: data/datacomex/taric/comex_taric_202006.csv       \n",
      "INFO:root:Procesando archivo: data/datacomex/taric/comex_taric_202005.csv       \n",
      "INFO:root:Procesando archivo: data/datacomex/taric/comex_taric_202004.csv       \n",
      "INFO:root:Procesando archivo: data/datacomex/taric/comex_taric_202003.csv       \n",
      "INFO:root:Procesando archivo: data/datacomex/taric/comex_taric_202002.csv       \n",
      "INFO:root:Procesando archivo: data/datacomex/taric/comex_taric_202001.csv       \n",
      "INFO:root:Procesando archivo: data/datacomex/taric/comex_taric_201912.csv       \n",
      "INFO:root:Procesando archivo: data/datacomex/taric/comex_taric_201911.csv       \n",
      "INFO:root:Procesando archivo: data/datacomex/taric/comex_taric_201910.csv       \n",
      "INFO:root:Procesando archivo: data/datacomex/taric/comex_taric_201909.csv       \n",
      "INFO:root:Procesando archivo: data/datacomex/taric/comex_taric_201908.csv       \n",
      "INFO:root:Procesando archivo: data/datacomex/taric/comex_taric_201907.csv       \n",
      "INFO:root:Procesando archivo: data/datacomex/taric/comex_taric_201906.csv       \n",
      "INFO:root:Procesando archivo: data/datacomex/taric/comex_taric_201905.csv       \n",
      "INFO:root:Procesando archivo: data/datacomex/taric/comex_taric_201904.csv       \n",
      "INFO:root:Procesando archivo: data/datacomex/taric/comex_taric_201903.csv       \n",
      "INFO:root:Procesando archivo: data/datacomex/taric/comex_taric_201902.csv       \n",
      "INFO:root:Procesando archivo: data/datacomex/taric/comex_taric_201901.csv       \n",
      "INFO:root:Procesando archivo: data/datacomex/taric/comex_taric_201812.csv       \n",
      "INFO:root:Procesando archivo: data/datacomex/taric/comex_taric_201811.csv       \n",
      "INFO:root:Procesando archivo: data/datacomex/taric/comex_taric_201810.csv       \n",
      "INFO:root:Procesando archivo: data/datacomex/taric/comex_taric_201809.csv       \n",
      "INFO:root:Procesando archivo: data/datacomex/taric/comex_taric_201808.csv       \n",
      "INFO:root:Procesando archivo: data/datacomex/taric/comex_taric_201807.csv       \n",
      "INFO:root:Procesando archivo: data/datacomex/taric/comex_taric_201806.csv       \n",
      "INFO:root:Procesando archivo: data/datacomex/taric/comex_taric_201805.csv       \n",
      "INFO:root:Procesando archivo: data/datacomex/taric/comex_taric_201804.csv       \n",
      "INFO:root:Procesando archivo: data/datacomex/taric/comex_taric_201803.csv       \n",
      "INFO:root:Procesando archivo: data/datacomex/taric/comex_taric_201802.csv       \n",
      "INFO:root:Procesando archivo: data/datacomex/taric/comex_taric_201801.csv       \n",
      "INFO:root:Procesando archivo: data/datacomex/taric/comex_taric_201712.csv       \n",
      "INFO:root:Procesando archivo: data/datacomex/taric/comex_taric_201711.csv       \n",
      "INFO:root:Procesando archivo: data/datacomex/taric/comex_taric_201710.csv       \n",
      "INFO:root:Procesando archivo: data/datacomex/taric/comex_taric_201709.csv       \n",
      "INFO:root:Procesando archivo: data/datacomex/taric/comex_taric_201708.csv       \n",
      "INFO:root:Procesando archivo: data/datacomex/taric/comex_taric_201707.csv       \n",
      "INFO:root:Procesando archivo: data/datacomex/taric/comex_taric_201706.csv       \n",
      "INFO:root:Procesando archivo: data/datacomex/taric/comex_taric_201704.csv       \n",
      "INFO:root:Procesando archivo: data/datacomex/taric/comex_taric_201703.csv       \n",
      "INFO:root:Procesando archivo: data/datacomex/taric/comex_taric_201702.csv       \n",
      "INFO:root:Procesando archivo: data/datacomex/taric/comex_taric_201701.csv       \n",
      "INFO:root:Procesando archivo: data/datacomex/taric/comex_taric_201612.csv       \n",
      "INFO:root:Procesando archivo: data/datacomex/taric/comex_taric_201611.csv       \n",
      "INFO:root:Procesando archivo: data/datacomex/taric/comex_taric_201610.csv       \n",
      "INFO:root:Procesando archivo: data/datacomex/taric/comex_taric_201609.csv       \n",
      "INFO:root:Procesando archivo: data/datacomex/taric/comex_taric_201608.csv       \n",
      "INFO:root:Procesando archivo: data/datacomex/taric/comex_taric_201607.csv       \n",
      "INFO:root:Procesando archivo: data/datacomex/taric/comex_taric_201606.csv       \n",
      "INFO:root:Procesando archivo: data/datacomex/taric/comex_taric_201605.csv       \n",
      "INFO:root:Procesando archivo: data/datacomex/taric/comex_taric_201604.csv       \n",
      "INFO:root:Procesando archivo: data/datacomex/taric/comex_taric_201603.csv       \n",
      "INFO:root:Procesando archivo: data/datacomex/taric/comex_taric_201602.csv       \n",
      "INFO:root:Procesando archivo: data/datacomex/taric/comex_taric_201601.csv       \n",
      "INFO:root:Procesando archivo: data/datacomex/taric/comex_taric_201512.csv       \n",
      "INFO:root:Procesando archivo: data/datacomex/taric/comex_taric_201511.csv       \n"
     ]
    },
    {
     "name": "stderr",
     "output_type": "stream",
     "text": [
      "INFO:root:Procesando archivo: data/datacomex/taric/comex_taric_201510.csv       \n",
      "INFO:root:Procesando archivo: data/datacomex/taric/comex_taric_201509.csv       \n",
      "INFO:root:Procesando archivo: data/datacomex/taric/comex_taric_201508.csv       \n",
      "INFO:root:Procesando archivo: data/datacomex/taric/comex_taric_201507.csv       \n",
      "INFO:root:Procesando archivo: data/datacomex/taric/comex_taric_201506.csv       \n",
      "INFO:root:Procesando archivo: data/datacomex/taric/comex_taric_201505.csv       \n",
      "INFO:root:Procesando archivo: data/datacomex/taric/comex_taric_201504.csv       \n",
      "INFO:root:Procesando archivo: data/datacomex/taric/comex_taric_201503.csv       \n",
      "INFO:root:Procesando archivo: data/datacomex/taric/comex_taric_201502.csv       \n",
      "INFO:root:Procesando archivo: data/datacomex/taric/comex_taric_201501.csv       \n",
      "INFO:root:Procesando archivo: data/datacomex/taric/comex_taric_201412.csv       \n",
      "INFO:root:Procesando archivo: data/datacomex/taric/comex_taric_201411.csv       \n",
      "INFO:root:Procesando archivo: data/datacomex/taric/comex_taric_201410.csv       \n",
      "INFO:root:Procesando archivo: data/datacomex/taric/comex_taric_201409.csv       \n",
      "INFO:root:Procesando archivo: data/datacomex/taric/comex_taric_201408.csv       \n",
      "INFO:root:Procesando archivo: data/datacomex/taric/comex_taric_201407.csv       \n",
      "INFO:root:Procesando archivo: data/datacomex/taric/comex_taric_201406.csv       \n",
      "INFO:root:Procesando archivo: data/datacomex/taric/comex_taric_201405.csv       \n",
      "INFO:root:Procesando archivo: data/datacomex/taric/comex_taric_201404.csv       \n",
      "INFO:root:Procesando archivo: data/datacomex/taric/comex_taric_201403.csv       \n",
      "INFO:root:Procesando archivo: data/datacomex/taric/comex_taric_201402.csv       \n",
      "INFO:root:Procesando archivo: data/datacomex/taric/comex_taric_201312.csv       \n",
      "INFO:root:Procesando archivo: data/datacomex/taric/comex_taric_201311.csv       \n",
      "INFO:root:Procesando archivo: data/datacomex/taric/comex_taric_201310.csv       \n",
      "INFO:root:Procesando archivo: data/datacomex/taric/comex_taric_201309.csv       \n",
      "INFO:root:Procesando archivo: data/datacomex/taric/comex_taric_201308.csv       \n",
      "INFO:root:Procesando archivo: data/datacomex/taric/comex_taric_201307.csv       \n",
      "INFO:root:Procesando archivo: data/datacomex/taric/comex_taric_201304.csv       \n",
      "INFO:root:Procesando archivo: data/datacomex/taric/comex_taric_201303.csv       \n",
      "INFO:root:Procesando archivo: data/datacomex/taric/comex_taric_201302.csv       \n",
      "INFO:root:Procesando archivo: data/datacomex/taric/comex_taric_201301.csv       \n",
      "INFO:root:Procesando archivo: data/datacomex/taric/comex_taric_201212.csv       \n",
      "INFO:root:Procesando archivo: data/datacomex/taric/comex_taric_201211.csv       \n",
      "INFO:root:Procesando archivo: data/datacomex/taric/comex_taric_201210.csv       \n",
      "INFO:root:Procesando archivo: data/datacomex/taric/comex_taric_201209.csv       \n",
      "INFO:root:Procesando archivo: data/datacomex/taric/comex_taric_201208.csv       \n",
      "INFO:root:Procesando archivo: data/datacomex/taric/comex_taric_201207.csv       \n",
      "INFO:root:Procesando archivo: data/datacomex/taric/comex_taric_201206.csv       \n",
      "INFO:root:Procesando archivo: data/datacomex/taric/comex_taric_201205.csv       \n",
      "INFO:root:Procesando archivo: data/datacomex/taric/comex_taric_201204.csv       \n",
      "INFO:root:Procesando archivo: data/datacomex/taric/comex_taric_201203.csv       \n",
      "INFO:root:Procesando archivo: data/datacomex/taric/comex_taric_201202.csv       \n",
      "INFO:root:Procesando archivo: data/datacomex/taric/comex_taric_201201.csv       \n",
      "INFO:root:Procesando archivo: data/datacomex/taric/comex_taric_201112.csv       \n",
      "INFO:root:Procesando archivo: data/datacomex/taric/comex_taric_201111.csv       \n",
      "INFO:root:Procesando archivo: data/datacomex/taric/comex_taric_201110.csv       \n",
      "INFO:root:Procesando archivo: data/datacomex/taric/comex_taric_201109.csv       \n",
      "INFO:root:Procesando archivo: data/datacomex/taric/comex_taric_201108.csv       \n",
      "INFO:root:Procesando archivo: data/datacomex/taric/comex_taric_201107.csv       \n",
      "INFO:root:Procesando archivo: data/datacomex/taric/comex_taric_201106.csv       \n",
      "INFO:root:Procesando archivo: data/datacomex/taric/comex_taric_201105.csv       \n",
      "INFO:root:Procesando archivo: data/datacomex/taric/comex_taric_201104.csv       \n",
      "INFO:root:Procesando archivo: data/datacomex/taric/comex_taric_201102.csv       \n",
      "INFO:root:Procesando archivo: data/datacomex/taric/comex_taric_201101.csv       \n",
      "INFO:root:Procesando archivo: data/datacomex/taric/comex_taric_201012.csv       \n",
      "INFO:root:Procesando archivo: data/datacomex/taric/comex_taric_201011.csv       \n",
      "INFO:root:Procesando archivo: data/datacomex/taric/comex_taric_201010.csv       \n",
      "INFO:root:Procesando archivo: data/datacomex/taric/comex_taric_201009.csv       \n",
      "INFO:root:Procesando archivo: data/datacomex/taric/comex_taric_201008.csv       \n",
      "INFO:root:Procesando archivo: data/datacomex/taric/comex_taric_201007.csv       \n",
      "INFO:root:Procesando archivo: data/datacomex/taric/comex_taric_201006.csv       \n",
      "INFO:root:Procesando archivo: data/datacomex/taric/comex_taric_201005.csv       \n",
      "INFO:root:Procesando archivo: data/datacomex/taric/comex_taric_201004.csv       \n",
      "INFO:root:Procesando archivo: data/datacomex/taric/comex_taric_201003.csv       \n",
      "INFO:root:Procesando archivo: data/datacomex/taric/comex_taric_201002.csv       \n",
      "INFO:root:Procesando archivo: data/datacomex/taric/comex_taric_201001.csv       \n",
      "INFO:root:Procesando archivo: data/datacomex/taric/comex_taric_200912.csv       \n",
      "INFO:root:Procesando archivo: data/datacomex/taric/comex_taric_200911.csv       \n",
      "INFO:root:Procesando archivo: data/datacomex/taric/comex_taric_200910.csv       \n",
      "INFO:root:Procesando archivo: data/datacomex/taric/comex_taric_200909.csv       \n",
      "INFO:root:Procesando archivo: data/datacomex/taric/comex_taric_200908.csv       \n",
      "INFO:root:Procesando archivo: data/datacomex/taric/comex_taric_200907.csv       \n",
      "INFO:root:Procesando archivo: data/datacomex/taric/comex_taric_200906.csv       \n",
      "INFO:root:Procesando archivo: data/datacomex/taric/comex_taric_200905.csv       \n",
      "INFO:root:Procesando archivo: data/datacomex/taric/comex_taric_200904.csv       \n",
      "INFO:root:Procesando archivo: data/datacomex/taric/comex_taric_200903.csv       \n",
      "INFO:root:Procesando archivo: data/datacomex/taric/comex_taric_200902.csv       \n",
      "INFO:root:Procesando archivo: data/datacomex/taric/comex_taric_200901.csv       \n",
      "INFO:root:Procesando archivo: data/datacomex/taric/comex_taric_200812.csv       \n",
      "INFO:root:Procesando archivo: data/datacomex/taric/comex_taric_200811.csv       \n",
      "INFO:root:Procesando archivo: data/datacomex/taric/comex_taric_200810.csv       \n",
      "INFO:root:Procesando archivo: data/datacomex/taric/comex_taric_200809.csv       \n",
      "INFO:root:Procesando archivo: data/datacomex/taric/comex_taric_200808.csv       \n",
      "INFO:root:Procesando archivo: data/datacomex/taric/comex_taric_200807.csv       \n",
      "INFO:root:Procesando archivo: data/datacomex/taric/comex_taric_200804.csv       \n",
      "INFO:root:Procesando archivo: data/datacomex/taric/comex_taric_200803.csv       \n",
      "INFO:root:Procesando archivo: data/datacomex/taric/comex_taric_200802.csv       \n",
      "INFO:root:Procesando archivo: data/datacomex/taric/comex_taric_200801.csv       \n",
      "INFO:root:Procesando archivo: data/datacomex/taric/comex_taric_200712.csv       \n",
      "INFO:root:Procesando archivo: data/datacomex/taric/comex_taric_200711.csv       \n",
      "INFO:root:Procesando archivo: data/datacomex/taric/comex_taric_200710.csv       \n",
      "INFO:root:Procesando archivo: data/datacomex/taric/comex_taric_200709.csv       \n",
      "INFO:root:Procesando archivo: data/datacomex/taric/comex_taric_200708.csv       \n",
      "INFO:root:Procesando archivo: data/datacomex/taric/comex_taric_200707.csv       \n",
      "INFO:root:Procesando archivo: data/datacomex/taric/comex_taric_200706.csv       \n",
      "INFO:root:Procesando archivo: data/datacomex/taric/comex_taric_200705.csv       \n",
      "INFO:root:Procesando archivo: data/datacomex/taric/comex_taric_200704.csv       \n",
      "INFO:root:Procesando archivo: data/datacomex/taric/comex_taric_200701.csv       \n",
      "INFO:root:Procesando archivo: data/datacomex/taric/comex_taric_200612.csv       \n",
      "INFO:root:Procesando archivo: data/datacomex/taric/comex_taric_200611.csv       \n",
      "INFO:root:Procesando archivo: data/datacomex/taric/comex_taric_200610.csv       \n"
     ]
    },
    {
     "name": "stderr",
     "output_type": "stream",
     "text": [
      "INFO:root:Procesando archivo: data/datacomex/taric/comex_taric_200609.csv       \n",
      "INFO:root:Procesando archivo: data/datacomex/taric/comex_taric_200608.csv       \n",
      "INFO:root:Procesando archivo: data/datacomex/taric/comex_taric_200607.csv       \n",
      "INFO:root:Procesando archivo: data/datacomex/taric/comex_taric_200605.csv       \n",
      "INFO:root:Procesando archivo: data/datacomex/taric/comex_taric_200604.csv       \n",
      "INFO:root:Procesando archivo: data/datacomex/taric/comex_taric_200603.csv       \n",
      "INFO:root:Procesando archivo: data/datacomex/taric/comex_taric_200602.csv       \n",
      "INFO:root:Procesando archivo: data/datacomex/taric/comex_taric_200601.csv       \n",
      "INFO:root:Procesando archivo: data/datacomex/taric/comex_taric_200512.csv       \n",
      "INFO:root:Procesando archivo: data/datacomex/taric/comex_taric_200511.csv       \n",
      "INFO:root:Procesando archivo: data/datacomex/taric/comex_taric_200510.csv       \n",
      "INFO:root:Procesando archivo: data/datacomex/taric/comex_taric_200509.csv       \n",
      "INFO:root:Procesando archivo: data/datacomex/taric/comex_taric_200508.csv       \n",
      "INFO:root:Procesando archivo: data/datacomex/taric/comex_taric_200507.csv       \n",
      "INFO:root:Procesando archivo: data/datacomex/taric/comex_taric_200506.csv       \n",
      "INFO:root:Procesando archivo: data/datacomex/taric/comex_taric_200505.csv       \n",
      "INFO:root:Procesando archivo: data/datacomex/taric/comex_taric_200504.csv       \n",
      "INFO:root:Procesando archivo: data/datacomex/taric/comex_taric_200503.csv       \n",
      "INFO:root:Procesando archivo: data/datacomex/taric/comex_taric_200502.csv       \n",
      "INFO:root:Procesando archivo: data/datacomex/taric/comex_taric_200501.csv       \n",
      "INFO:root:Procesando archivo: data/datacomex/taric/comex_taric_200412.csv       \n",
      "INFO:root:Procesando archivo: data/datacomex/taric/comex_taric_200411.csv       \n",
      "INFO:root:Procesando archivo: data/datacomex/taric/comex_taric_200410.csv       \n",
      "INFO:root:Procesando archivo: data/datacomex/taric/comex_taric_200409.csv       \n",
      "INFO:root:Procesando archivo: data/datacomex/taric/comex_taric_200408.csv       \n",
      "INFO:root:Procesando archivo: data/datacomex/taric/comex_taric_200407.csv       \n",
      "INFO:root:Procesando archivo: data/datacomex/taric/comex_taric_200406.csv       \n",
      "INFO:root:Procesando archivo: data/datacomex/taric/comex_taric_200405.csv       \n",
      "INFO:root:Procesando archivo: data/datacomex/taric/comex_taric_200404.csv       \n",
      "INFO:root:Procesando archivo: data/datacomex/taric/comex_taric_200403.csv       \n",
      "INFO:root:Procesando archivo: data/datacomex/taric/comex_taric_200402.csv       \n",
      "INFO:root:Procesando archivo: data/datacomex/taric/comex_taric_200401.csv       \n",
      "INFO:root:Procesando archivo: data/datacomex/taric/comex_taric_200312.csv       \n",
      "INFO:root:Procesando archivo: data/datacomex/taric/comex_taric_200311.csv       \n",
      "INFO:root:Procesando archivo: data/datacomex/taric/comex_taric_200310.csv       \n",
      "INFO:root:Procesando archivo: data/datacomex/taric/comex_taric_200309.csv       \n",
      "INFO:root:Procesando archivo: data/datacomex/taric/comex_taric_200308.csv       \n",
      "INFO:root:Procesando archivo: data/datacomex/taric/comex_taric_200307.csv       \n",
      "INFO:root:Procesando archivo: data/datacomex/taric/comex_taric_200306.csv       \n",
      "INFO:root:Procesando archivo: data/datacomex/taric/comex_taric_200305.csv       \n",
      "INFO:root:Procesando archivo: data/datacomex/taric/comex_taric_200304.csv       \n",
      "INFO:root:Procesando archivo: data/datacomex/taric/comex_taric_200303.csv       \n",
      "INFO:root:Procesando archivo: data/datacomex/taric/comex_taric_200302.csv       \n",
      "INFO:root:Procesando archivo: data/datacomex/taric/comex_taric_200301.csv       \n",
      "INFO:root:Procesando archivo: data/datacomex/taric/comex_taric_200212.csv       \n",
      "INFO:root:Procesando archivo: data/datacomex/taric/comex_taric_200211.csv       \n",
      "INFO:root:Procesando archivo: data/datacomex/taric/comex_taric_200210.csv       \n",
      "INFO:root:Procesando archivo: data/datacomex/taric/comex_taric_200209.csv       \n",
      "INFO:root:Procesando archivo: data/datacomex/taric/comex_taric_200208.csv       \n",
      "INFO:root:Procesando archivo: data/datacomex/taric/comex_taric_200207.csv       \n",
      "INFO:root:Procesando archivo: data/datacomex/taric/comex_taric_200206.csv       \n",
      "INFO:root:Procesando archivo: data/datacomex/taric/comex_taric_200205.csv       \n",
      "INFO:root:Procesando archivo: data/datacomex/taric/comex_taric_200204.csv       \n",
      "INFO:root:Procesando archivo: data/datacomex/taric/comex_taric_200203.csv       \n",
      "INFO:root:Procesando archivo: data/datacomex/taric/comex_taric_200202.csv       \n",
      "INFO:root:Procesando archivo: data/datacomex/taric/comex_taric_200201.csv       \n",
      "INFO:root:Procesando archivo: data/datacomex/taric/comex_taric_200112.csv       \n",
      "INFO:root:Procesando archivo: data/datacomex/taric/comex_taric_200111.csv       \n",
      "INFO:root:Procesando archivo: data/datacomex/taric/comex_taric_200110.csv       \n",
      "INFO:root:Procesando archivo: data/datacomex/taric/comex_taric_200109.csv       \n",
      "INFO:root:Procesando archivo: data/datacomex/taric/comex_taric_200108.csv       \n",
      "INFO:root:Procesando archivo: data/datacomex/taric/comex_taric_200107.csv       \n",
      "INFO:root:Procesando archivo: data/datacomex/taric/comex_taric_200106.csv       \n",
      "INFO:root:Procesando archivo: data/datacomex/taric/comex_taric_200105.csv       \n",
      "INFO:root:Procesando archivo: data/datacomex/taric/comex_taric_200104.csv       \n",
      "INFO:root:Procesando archivo: data/datacomex/taric/comex_taric_200103.csv       \n",
      "INFO:root:Procesando archivo: data/datacomex/taric/comex_taric_200102.csv       \n",
      "INFO:root:Procesando archivo: data/datacomex/taric/comex_taric_200101.csv       \n",
      "INFO:root:Procesando archivo: data/datacomex/taric/comex_taric_200012.csv       \n",
      "INFO:root:Procesando archivo: data/datacomex/taric/comex_taric_200011.csv       \n",
      "INFO:root:Procesando archivo: data/datacomex/taric/comex_taric_200010.csv       \n",
      "INFO:root:Procesando archivo: data/datacomex/taric/comex_taric_200009.csv       \n",
      "INFO:root:Procesando archivo: data/datacomex/taric/comex_taric_200008.csv       \n",
      "INFO:root:Procesando archivo: data/datacomex/taric/comex_taric_200007.csv       \n",
      "INFO:root:Procesando archivo: data/datacomex/taric/comex_taric_200006.csv       \n",
      "INFO:root:Procesando archivo: data/datacomex/taric/comex_taric_200005.csv       \n",
      "INFO:root:Procesando archivo: data/datacomex/taric/comex_taric_200004.csv       \n",
      "INFO:root:Procesando archivo: data/datacomex/taric/comex_taric_200003.csv       \n",
      "INFO:root:Procesando archivo: data/datacomex/taric/comex_taric_200002.csv       \n",
      "INFO:root:Procesando archivo: data/datacomex/taric/comex_taric_200001.csv       \n",
      "INFO:root:Procesando archivo: data/datacomex/taric/comex_taric_199912.csv       \n",
      "INFO:root:Procesando archivo: data/datacomex/taric/comex_taric_199911.csv       \n",
      "INFO:root:Procesando archivo: data/datacomex/taric/comex_taric_199910.csv       \n",
      "INFO:root:Procesando archivo: data/datacomex/taric/comex_taric_199909.csv       \n",
      "INFO:root:Procesando archivo: data/datacomex/taric/comex_taric_199908.csv       \n",
      "INFO:root:Procesando archivo: data/datacomex/taric/comex_taric_199907.csv       \n",
      "INFO:root:Procesando archivo: data/datacomex/taric/comex_taric_199906.csv       \n",
      "INFO:root:Procesando archivo: data/datacomex/taric/comex_taric_199905.csv       \n",
      "INFO:root:Procesando archivo: data/datacomex/taric/comex_taric_199904.csv       \n",
      "INFO:root:Procesando archivo: data/datacomex/taric/comex_taric_199903.csv       \n",
      "INFO:root:Procesando archivo: data/datacomex/taric/comex_taric_199902.csv       \n",
      "INFO:root:Procesando archivo: data/datacomex/taric/comex_taric_199901.csv       \n",
      "INFO:root:Procesando archivo: data/datacomex/taric/comex_taric_199812.csv       \n",
      "INFO:root:Procesando archivo: data/datacomex/taric/comex_taric_199811.csv       \n",
      "INFO:root:Procesando archivo: data/datacomex/taric/comex_taric_199810.csv       \n",
      "INFO:root:Procesando archivo: data/datacomex/taric/comex_taric_199809.csv       \n",
      "INFO:root:Procesando archivo: data/datacomex/taric/comex_taric_199808.csv       \n",
      "INFO:root:Procesando archivo: data/datacomex/taric/comex_taric_199807.csv       \n",
      "INFO:root:Procesando archivo: data/datacomex/taric/comex_taric_199806.csv       \n",
      "INFO:root:Procesando archivo: data/datacomex/taric/comex_taric_199805.csv       \n",
      "INFO:root:Procesando archivo: data/datacomex/taric/comex_taric_199804.csv       \n"
     ]
    },
    {
     "name": "stderr",
     "output_type": "stream",
     "text": [
      "INFO:root:Procesando archivo: data/datacomex/taric/comex_taric_199803.csv       \n",
      "INFO:root:Procesando archivo: data/datacomex/taric/comex_taric_199802.csv       \n",
      "INFO:root:Procesando archivo: data/datacomex/taric/comex_taric_199801.csv       \n",
      "INFO:root:Procesando archivo: data/datacomex/taric/comex_taric_199712.csv       \n",
      "INFO:root:Procesando archivo: data/datacomex/taric/comex_taric_199711.csv       \n",
      "INFO:root:Procesando archivo: data/datacomex/taric/comex_taric_199710.csv       \n",
      "INFO:root:Procesando archivo: data/datacomex/taric/comex_taric_199707.csv       \n",
      "INFO:root:Procesando archivo: data/datacomex/taric/comex_taric_199706.csv       \n",
      "INFO:root:Procesando archivo: data/datacomex/taric/comex_taric_199705.csv       \n",
      "INFO:root:Procesando archivo: data/datacomex/taric/comex_taric_199704.csv       \n",
      "INFO:root:Procesando archivo: data/datacomex/taric/comex_taric_199703.csv       \n",
      "INFO:root:Procesando archivo: data/datacomex/taric/comex_taric_199702.csv       \n",
      "INFO:root:Procesando archivo: data/datacomex/taric/comex_taric_199701.csv       \n",
      "INFO:root:Procesando archivo: data/datacomex/taric/comex_taric_199612.csv       \n",
      "INFO:root:Procesando archivo: data/datacomex/taric/comex_taric_199611.csv       \n",
      "INFO:root:Procesando archivo: data/datacomex/taric/comex_taric_199610.csv       \n",
      "INFO:root:Procesando archivo: data/datacomex/taric/comex_taric_199609.csv       \n",
      "INFO:root:Procesando archivo: data/datacomex/taric/comex_taric_199608.csv       \n",
      "INFO:root:Procesando archivo: data/datacomex/taric/comex_taric_199607.csv       \n",
      "INFO:root:Procesando archivo: data/datacomex/taric/comex_taric_199606.csv       \n",
      "INFO:root:Procesando archivo: data/datacomex/taric/comex_taric_199605.csv       \n",
      "INFO:root:Procesando archivo: data/datacomex/taric/comex_taric_199604.csv       \n",
      "INFO:root:Procesando archivo: data/datacomex/taric/comex_taric_199603.csv       \n",
      "INFO:root:Procesando archivo: data/datacomex/taric/comex_taric_199602.csv       \n",
      "INFO:root:Procesando archivo: data/datacomex/taric/comex_taric_199601.csv       \n",
      "INFO:root:Procesando archivo: data/datacomex/taric/comex_taric_199512.csv       \n",
      "INFO:root:Procesando archivo: data/datacomex/taric/comex_taric_199511.csv       \n",
      "INFO:root:Procesando archivo: data/datacomex/taric/comex_taric_199510.csv       \n",
      "INFO:root:Procesando archivo: data/datacomex/taric/comex_taric_199509.csv       \n",
      "INFO:root:Procesando archivo: data/datacomex/taric/comex_taric_199508.csv       \n",
      "INFO:root:Procesando archivo: data/datacomex/taric/comex_taric_199507.csv       \n",
      "INFO:root:Procesando archivo: data/datacomex/taric/comex_taric_199506.csv       \n",
      "INFO:root:Procesando archivo: data/datacomex/taric/comex_taric_199505.csv       \n",
      "INFO:root:Procesando archivo: data/datacomex/taric/comex_taric_199504.csv       \n",
      "INFO:root:Procesando archivo: data/datacomex/taric/comex_taric_199503.csv       \n",
      "INFO:root:Procesando archivo: data/datacomex/taric/comex_taric_199502.csv       \n",
      "INFO:root:Procesando archivo: data/datacomex/taric/comex_taric_199501.csv       \n",
      "                                                                                \r"
     ]
    }
   ],
   "source": [
    "for file_path in file_paths:\n",
    "    try:\n",
    "        logging.info(f\"Procesando archivo: {file_path}\")\n",
    "        \n",
    "        df = spark.read.format(\"binaryFile\").load(f'gs://{CONFIG[\"raw_bucket\"]}/{file_path}')\n",
    "        df = decode_df(df, col_names)\n",
    "\n",
    "        df = (\n",
    "            df.withColumn(\"anio\", col(\"anio\").cast(\"integer\"))\n",
    "              .withColumn(\"mes\", col(\"mes\").cast(\"integer\"))\n",
    "              .withColumn(\"euros\", regexp_replace(col(\"euros\"), \",\", \".\").cast(\"decimal(18, 2)\"))\n",
    "              .withColumn(\"dolares\", regexp_replace(col(\"dolares\"), \",\", \".\").cast(\"decimal(18, 2)\"))\n",
    "              .withColumn(\"kilogramos\", regexp_replace(col(\"kilogramos\"), \",\", \".\").cast(\"decimal(18, 2)\"))\n",
    "        )\n",
    "\n",
    "        df.write.options(\n",
    "            compression=\"snappy\"\n",
    "        ).mode(\n",
    "            \"append\"\n",
    "        ).partitionBy(\n",
    "            \"anio\", \"mes\"\n",
    "        ).parquet(target_comex_data_path)\n",
    "\n",
    "    except Exception as e:\n",
    "        logging.error(f\"Error procesando archivo {file_path}: {e}\")"
   ]
  },
  {
   "cell_type": "code",
   "execution_count": null,
   "id": "2cebb96a",
   "metadata": {},
   "outputs": [],
   "source": []
  }
 ],
 "metadata": {
  "kernelspec": {
   "display_name": "PySpark",
   "language": "python",
   "name": "pyspark"
  },
  "language_info": {
   "codemirror_mode": {
    "name": "ipython",
    "version": 3
   },
   "file_extension": ".py",
   "mimetype": "text/x-python",
   "name": "python",
   "nbconvert_exporter": "python",
   "pygments_lexer": "ipython3",
   "version": "3.11.8"
  }
 },
 "nbformat": 4,
 "nbformat_minor": 5
}
