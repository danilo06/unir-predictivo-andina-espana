{
 "cells": [
  {
   "cell_type": "markdown",
   "id": "097e6ebc",
   "metadata": {},
   "source": [
    "# Universidad Internacional de La Rioja  \n",
    "\n",
    "### Máster Universitario en Visual Analytics and Big Data  \n",
    "\n",
    "---\n",
    "\n",
    "### **Predicción y Análisis de la Demanda y Suministro de Productos entre la Comunidad Andina y España**  \n",
    "\n",
    "### **Trabajo Fin de Estudio**  \n",
    "- **Presentado por:** Danilo Andrés Beleño Villafañe  \n",
    "\n",
    "---\n",
    "\n",
    "## **Codigo 1: Paso de la Zona de Tránsito a la Zona de Datos Crudos**  \n"
   ]
  },
  {
   "cell_type": "code",
   "execution_count": 1,
   "id": "ae19c2fd",
   "metadata": {},
   "outputs": [],
   "source": [
    "import time\n",
    "import zipfile\n",
    "import logging\n",
    "from io import BytesIO\n",
    "from google.cloud import storage\n",
    "from concurrent.futures import ThreadPoolExecutor"
   ]
  },
  {
   "cell_type": "code",
   "execution_count": 2,
   "id": "a6ac8992",
   "metadata": {},
   "outputs": [],
   "source": [
    "logging.basicConfig(level=logging.INFO)"
   ]
  },
  {
   "cell_type": "code",
   "execution_count": 3,
   "id": "3a442874",
   "metadata": {
    "scrolled": true
   },
   "outputs": [],
   "source": [
    "def process_blob(blob, destination_bucket, target_zip_folder):\n",
    "    try:\n",
    "        logging.info(f'Processing {blob.name}')\n",
    "        zip_data = blob.download_as_bytes()\n",
    "        zip_file = BytesIO(zip_data)\n",
    "\n",
    "        with zipfile.ZipFile(zip_file, 'r') as z:\n",
    "            for filename in z.namelist():\n",
    "                logging.info(f'Extracting {filename}')\n",
    "\n",
    "                file_data = z.read(filename)\n",
    "                destination_blob_name = f'{target_zip_folder}{filename}'\n",
    "                destination_blob = destination_bucket.blob(destination_blob_name)\n",
    "\n",
    "                destination_blob.upload_from_string(file_data)\n",
    "                logging.info(f'{filename} extracted to {destination_blob_name}')\n",
    "        zip_file.close()\n",
    "    except Exception as e:\n",
    "        logging.error(f\"Error processing {blob.name}: {e}\")"
   ]
  },
  {
   "cell_type": "code",
   "execution_count": 4,
   "id": "85014b9e",
   "metadata": {},
   "outputs": [],
   "source": [
    "def extract_zip_to_bucket(source_bucket_name, destination_bucket_name, zip_folder, target_zip_folder):\n",
    "    client = storage.Client()\n",
    "    source_bucket = client.bucket(source_bucket_name)\n",
    "    destination_bucket = client.bucket(destination_bucket_name)\n",
    "\n",
    "    blobs = source_bucket.list_blobs(prefix=zip_folder)\n",
    "\n",
    "    with ThreadPoolExecutor(max_workers=3) as executor:\n",
    "        for blob in blobs:\n",
    "            if blob.name.endswith('.zip'):\n",
    "                executor.submit(process_blob, blob, destination_bucket, target_zip_folder)"
   ]
  },
  {
   "cell_type": "code",
   "execution_count": 5,
   "id": "03763ce1",
   "metadata": {},
   "outputs": [],
   "source": [
    "transient_zone = 'data-factory-0-transient-zone'\n",
    "raw_data_zone = 'data-factory-1-raw-data-zone'\n",
    "source_data_folder = 'data/datacomex/taric/'\n",
    "target_data_folder = 'data/datacomex/taric/'"
   ]
  },
  {
   "cell_type": "code",
   "execution_count": null,
   "id": "ed2bef9f",
   "metadata": {},
   "outputs": [],
   "source": [
    "start_time = time.time()\n",
    "\n",
    "extract_zip_to_bucket(transient_zone, raw_data_zone, source_data_folder, target_data_folder)\n",
    "\n",
    "end_time = time.time()"
   ]
  },
  {
   "cell_type": "code",
   "execution_count": 7,
   "id": "b6563323",
   "metadata": {},
   "outputs": [
    {
     "name": "stdout",
     "output_type": "stream",
     "text": [
      "The execution time was: 0 hours, 8 minutes, and 9 seconds.\n"
     ]
    }
   ],
   "source": [
    "elapsed_time = end_time - start_time\n",
    "\n",
    "hours, remainder = divmod(elapsed_time, 3600)\n",
    "minutes, seconds = divmod(remainder, 60)\n",
    "\n",
    "print(f\"The execution time was: {int(hours)} hours, {int(minutes)} minutes, and {int(seconds)} seconds.\")"
   ]
  }
 ],
 "metadata": {
  "kernelspec": {
   "display_name": "Python 3",
   "language": "python",
   "name": "python3"
  },
  "language_info": {
   "codemirror_mode": {
    "name": "ipython",
    "version": 3
   },
   "file_extension": ".py",
   "mimetype": "text/x-python",
   "name": "python",
   "nbconvert_exporter": "python",
   "pygments_lexer": "ipython3",
   "version": "3.11.8"
  }
 },
 "nbformat": 4,
 "nbformat_minor": 5
}
