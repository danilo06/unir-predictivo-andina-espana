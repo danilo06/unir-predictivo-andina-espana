{
 "cells": [
  {
   "cell_type": "markdown",
   "metadata": {},
   "source": [
    "# Universidad Internacional de La Rioja  \n",
    "\n",
    "### Máster Universitario en Visual Analytics and Big Data  \n",
    "\n",
    "---\n",
    "\n",
    "### **Predicción y Análisis de la Demanda y Suministro de Productos entre la Comunidad Andina y España**  \n",
    "**Presentado por:** Danilo Andrés Beleño Villafañe  \n",
    "\n",
    "---\n",
    "\n",
    "### **Notebook 3: Etapa de comprension de los datos**  \n"
   ]
  },
  {
   "cell_type": "code",
   "execution_count": 1,
   "metadata": {},
   "outputs": [],
   "source": [
    "# pip install google-cloud-bigquery\n",
    "# pip install db-dtypes # Necesario para descargar datos\n",
    "# pip install google-cloud-bigquery-storage # Optimiza proceso de descarga\n",
    "# pip install ydata-profiling - Libreria necesaria para perfilado de los datos"
   ]
  },
  {
   "cell_type": "code",
   "execution_count": 1,
   "metadata": {},
   "outputs": [],
   "source": [
    "import pandas as pd # Manejo de datos\n",
    "import sweetviz as sv # PRofiling\n",
    "from google.cloud import bigquery # Cliente de GCP\n",
    "from ydata_profiling import ProfileReport # Profiling\n"
   ]
  },
  {
   "cell_type": "code",
   "execution_count": 2,
   "metadata": {},
   "outputs": [],
   "source": [
    "client = bigquery.Client()"
   ]
  },
  {
   "cell_type": "code",
   "execution_count": 3,
   "metadata": {},
   "outputs": [],
   "source": [
    "table_id = \"unir-predictiv0-andina-espana.datacomex.comex_comunidad_andina\"\n",
    "\n",
    "query = f\"SELECT * FROM `{table_id}` LIMIT 1\"\n",
    "query_job = client.query(query)\n",
    "df = query_job.to_dataframe()"
   ]
  },
  {
   "cell_type": "code",
   "execution_count": null,
   "metadata": {},
   "outputs": [],
   "source": [
    "df.head(1)"
   ]
  },
  {
   "cell_type": "code",
   "execution_count": null,
   "metadata": {},
   "outputs": [],
   "source": [
    "df.columns"
   ]
  },
  {
   "cell_type": "code",
   "execution_count": 6,
   "metadata": {},
   "outputs": [],
   "source": [
    "columns_to_analyze = ['tipo_movimiento', 'nombre_pais',\n",
    "       'nombre_provincia', 'nombre_comunidad', 'estado', 'euros', 'dolares',\n",
    "       'comex_nivel_taric', 'kilogramos', 'anio', 'mes',\n",
    "       'nivel_taric_detalle', 'descripcion_taric']"
   ]
  },
  {
   "cell_type": "code",
   "execution_count": null,
   "metadata": {},
   "outputs": [],
   "source": [
    "for column_name in columns_to_analyze:\n",
    "    \n",
    "    query = f\"SELECT {column_name} FROM `{table_id}`\"\n",
    "    query_job = client.query(query)\n",
    "    \n",
    "    df = query_job.to_dataframe()\n",
    "    \n",
    "    profile = ProfileReport(df, title=f\"Reporte de Perfilado {column_name}\", explorative=True)\n",
    "    profile.to_file(f\"perfilado_ydata/{column_name}_y.html\")\n",
    "    \n",
    "    reporte = sv.analyze(df)\n",
    "    reporte.show_html(f\"perfilado_sweetviz/{column_name}_s.html\")\n",
    "    "
   ]
  }
 ],
 "metadata": {
  "kernelspec": {
   "display_name": "base",
   "language": "python",
   "name": "python3"
  },
  "language_info": {
   "codemirror_mode": {
    "name": "ipython",
    "version": 3
   },
   "file_extension": ".py",
   "mimetype": "text/x-python",
   "name": "python",
   "nbconvert_exporter": "python",
   "pygments_lexer": "ipython3",
   "version": "3.12.7"
  }
 },
 "nbformat": 4,
 "nbformat_minor": 2
}
